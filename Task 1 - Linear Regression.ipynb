{
 "cells": [
  {
   "cell_type": "markdown",
   "id": "253c0fa5",
   "metadata": {},
   "source": [
    "# <U>The Sparks Foundation</U>\n",
    "#### Task-1 :<span style=\"font-weight:normal;\"> <U>Prediction using Supervised ML</U><br><br> Predict the percentage of marks of a student based on the number of study hours.</span>"
   ]
  },
  {
   "cell_type": "markdown",
   "id": "970da3df",
   "metadata": {},
   "source": [
    "### Name : <span style=\"font-weight:normal;\"><U>Ishan Agarwal</U></span>\n",
    "#### Step 1 : <span style=\"font-weight:normal;\">Importing libraries and datasets</span>"
   ]
  },
  {
   "cell_type": "code",
   "execution_count": 1,
   "id": "b4f44bc2",
   "metadata": {},
   "outputs": [],
   "source": [
    "#importing required libraries\n",
    "import numpy as np\n",
    "import pandas as pd\n",
    "import matplotlib.pyplot as plt\n",
    "import sklearn"
   ]
  },
  {
   "cell_type": "code",
   "execution_count": 2,
   "id": "12a0af78",
   "metadata": {},
   "outputs": [
    {
     "data": {
      "text/html": [
       "<div>\n",
       "<style scoped>\n",
       "    .dataframe tbody tr th:only-of-type {\n",
       "        vertical-align: middle;\n",
       "    }\n",
       "\n",
       "    .dataframe tbody tr th {\n",
       "        vertical-align: top;\n",
       "    }\n",
       "\n",
       "    .dataframe thead th {\n",
       "        text-align: right;\n",
       "    }\n",
       "</style>\n",
       "<table border=\"1\" class=\"dataframe\">\n",
       "  <thead>\n",
       "    <tr style=\"text-align: right;\">\n",
       "      <th></th>\n",
       "      <th>Hours</th>\n",
       "      <th>Scores</th>\n",
       "    </tr>\n",
       "  </thead>\n",
       "  <tbody>\n",
       "    <tr>\n",
       "      <th>0</th>\n",
       "      <td>2.5</td>\n",
       "      <td>21</td>\n",
       "    </tr>\n",
       "    <tr>\n",
       "      <th>1</th>\n",
       "      <td>5.1</td>\n",
       "      <td>47</td>\n",
       "    </tr>\n",
       "    <tr>\n",
       "      <th>2</th>\n",
       "      <td>3.2</td>\n",
       "      <td>27</td>\n",
       "    </tr>\n",
       "    <tr>\n",
       "      <th>3</th>\n",
       "      <td>8.5</td>\n",
       "      <td>75</td>\n",
       "    </tr>\n",
       "    <tr>\n",
       "      <th>4</th>\n",
       "      <td>3.5</td>\n",
       "      <td>30</td>\n",
       "    </tr>\n",
       "  </tbody>\n",
       "</table>\n",
       "</div>"
      ],
      "text/plain": [
       "   Hours  Scores\n",
       "0    2.5      21\n",
       "1    5.1      47\n",
       "2    3.2      27\n",
       "3    8.5      75\n",
       "4    3.5      30"
      ]
     },
     "execution_count": 2,
     "metadata": {},
     "output_type": "execute_result"
    }
   ],
   "source": [
    "# Reading data from the given link\n",
    "url = \"http://bit.ly/w-data\"\n",
    "data = pd.read_csv(url)\n",
    "data.head()"
   ]
  },
  {
   "cell_type": "markdown",
   "id": "5cadeba2",
   "metadata": {},
   "source": [
    "#### Step 2 : <span style=\"font-weight:normal;\">Plotting the distribution of percentage scores against the no. of hours studied</span>"
   ]
  },
  {
   "cell_type": "code",
   "execution_count": 3,
   "id": "b72f7dbe",
   "metadata": {},
   "outputs": [
    {
     "data": {
      "image/png": "[encoded data removed]",
      "text/plain": [
       "<Figure size 432x288 with 1 Axes>"
      ]
     },
     "metadata": {
      "needs_background": "light"
     },
     "output_type": "display_data"
    }
   ],
   "source": [
    "data.plot(x='Hours', y='Scores', style='o')  \n",
    "plt.title('Hours vs Percentage')  \n",
    "plt.xlabel('No. of Hours Studied')  \n",
    "plt.ylabel('Percentage Score')  \n",
    "plt.grid()\n",
    "plt.show()"
   ]
  },
  {
   "cell_type": "markdown",
   "id": "4b2c3a40",
   "metadata": {},
   "source": [
    "#### Step 3 : <span style=\"font-weight:normal;\">Preparing the data into input and output and splitting the dataset into training and testing sets.</span>"
   ]
  },
  {
   "cell_type": "code",
   "execution_count": 4,
   "id": "e319dc1f",
   "metadata": {},
   "outputs": [
    {
     "name": "stdout",
     "output_type": "stream",
     "text": [
      "[[2.5]\n",
      " [5.1]\n",
      " [3.2]\n",
      " [8.5]\n",
      " [3.5]\n",
      " [1.5]\n",
      " [9.2]\n",
      " [5.5]\n",
      " [8.3]\n",
      " [2.7]\n",
      " [7.7]\n",
      " [5.9]\n",
      " [4.5]\n",
      " [3.3]\n",
      " [1.1]\n",
      " [8.9]\n",
      " [2.5]\n",
      " [1.9]\n",
      " [6.1]\n",
      " [7.4]\n",
      " [2.7]\n",
      " [4.8]\n",
      " [3.8]\n",
      " [6.9]\n",
      " [7.8]]\n"
     ]
    }
   ],
   "source": [
    "# Preparing data for hours\n",
    "X = data.iloc[:, : 1].values\n",
    "print(X)"
   ]
  },
  {
   "cell_type": "code",
   "execution_count": 5,
   "id": "f9ce0fa7",
   "metadata": {},
   "outputs": [
    {
     "name": "stdout",
     "output_type": "stream",
     "text": [
      "[[21]\n",
      " [47]\n",
      " [27]\n",
      " [75]\n",
      " [30]\n",
      " [20]\n",
      " [88]\n",
      " [60]\n",
      " [81]\n",
      " [25]\n",
      " [85]\n",
      " [62]\n",
      " [41]\n",
      " [42]\n",
      " [17]\n",
      " [95]\n",
      " [30]\n",
      " [24]\n",
      " [67]\n",
      " [69]\n",
      " [30]\n",
      " [54]\n",
      " [35]\n",
      " [76]\n",
      " [86]]\n"
     ]
    }
   ],
   "source": [
    "# Preparing data for scores\n",
    "Y = data.iloc[:, 1: ].values\n",
    "print(Y)"
   ]
  },
  {
   "cell_type": "code",
   "execution_count": 6,
   "id": "d0894526",
   "metadata": {},
   "outputs": [],
   "source": [
    "# Splitting dataset\n",
    "from sklearn.model_selection import train_test_split  \n",
    "X_train, X_test, Y_train, Y_test = train_test_split(X, Y, test_size=0.2, random_state=0) "
   ]
  },
  {
   "cell_type": "markdown",
   "id": "02ab76de",
   "metadata": {},
   "source": [
    "#### Step 4 : <span style=\"font-weight:normal;\">Training the model using Linear Regression Algorithm</span>"
   ]
  },
  {
   "cell_type": "code",
   "execution_count": 7,
   "id": "7c596a34",
   "metadata": {},
   "outputs": [
    {
     "data": {
      "text/plain": [
       "LinearRegression()"
      ]
     },
     "execution_count": 7,
     "metadata": {},
     "output_type": "execute_result"
    }
   ],
   "source": [
    "from sklearn.linear_model import LinearRegression  \n",
    "lr = LinearRegression()  \n",
    "lr.fit(X_train, Y_train)"
   ]
  },
  {
   "cell_type": "code",
   "execution_count": 8,
   "id": "1beace06",
   "metadata": {},
   "outputs": [
    {
     "name": "stdout",
     "output_type": "stream",
     "text": [
      "Coefficient : 9.910656480642233\n",
      "Intercept : 2.0181600414346974\n"
     ]
    }
   ],
   "source": [
    "# Coefficient and intercept of our model\n",
    "coef = lr.coef_\n",
    "intercept = lr.intercept_\n",
    "print(\"Coefficient : \"+str(coef[0][0]))\n",
    "print(\"Intercept : \"+str(intercept[0]))"
   ]
  },
  {
   "cell_type": "markdown",
   "id": "e5e256f8",
   "metadata": {},
   "source": [
    "#### Step 5 : <span style=\"font-weight:normal;\">Visualizing the model</span>"
   ]
  },
  {
   "cell_type": "code",
   "execution_count": 9,
   "id": "9f3256bc",
   "metadata": {},
   "outputs": [
    {
     "data": {
      "image/png": "[encoded data removed]",
      "text/plain": [
       "<Figure size 432x288 with 1 Axes>"
      ]
     },
     "metadata": {
      "needs_background": "light"
     },
     "output_type": "display_data"
    }
   ],
   "source": [
    "# Plotting the regression line\n",
    "line = coef*X + intercept\n",
    "\n",
    "# Plotting for the test data\n",
    "plt.show()\n",
    "plt.scatter(X_train, Y_train, color=\"Blue\")\n",
    "plt.plot(X, line, color=\"Red\");\n",
    "plt.xlabel('No. of Hours Studied')\n",
    "plt.ylabel('Percentage Score')\n",
    "plt.grid()\n",
    "plt.show()"
   ]
  },
  {
   "cell_type": "markdown",
   "id": "6861c9e5",
   "metadata": {},
   "source": [
    "#### Step 6 : <span style=\"font-weight:normal;\">Now that we have trained our algorithm, it's time to make some predictions.</span>"
   ]
  },
  {
   "cell_type": "code",
   "execution_count": 10,
   "id": "efaf52d8",
   "metadata": {},
   "outputs": [
    {
     "name": "stdout",
     "output_type": "stream",
     "text": [
      "[[1.5]\n",
      " [3.2]\n",
      " [7.4]\n",
      " [2.5]\n",
      " [5.9]]\n"
     ]
    }
   ],
   "source": [
    "print(X_test) # Testing data - In Hours\n",
    "Y_pred = lr.predict(X_test) # Predicting the scores\n",
    "\n",
    "# Converting array to 1 dimension\n",
    "\n",
    "test = []\n",
    "pred = []\n",
    "for i in range(len(Y_test)):\n",
    "    test.append(Y_test[i][0])\n",
    "    pred.append(Y_pred[i][0])\n",
    "Y_test = test\n",
    "Y_pred = pred"
   ]
  },
  {
   "cell_type": "code",
   "execution_count": 11,
   "id": "cca9f5eb",
   "metadata": {},
   "outputs": [
    {
     "data": {
      "text/html": [
       "<div>\n",
       "<style scoped>\n",
       "    .dataframe tbody tr th:only-of-type {\n",
       "        vertical-align: middle;\n",
       "    }\n",
       "\n",
       "    .dataframe tbody tr th {\n",
       "        vertical-align: top;\n",
       "    }\n",
       "\n",
       "    .dataframe thead th {\n",
       "        text-align: right;\n",
       "    }\n",
       "</style>\n",
       "<table border=\"1\" class=\"dataframe\">\n",
       "  <thead>\n",
       "    <tr style=\"text-align: right;\">\n",
       "      <th></th>\n",
       "      <th>Actual</th>\n",
       "      <th>Predicted</th>\n",
       "    </tr>\n",
       "  </thead>\n",
       "  <tbody>\n",
       "    <tr>\n",
       "      <th>0</th>\n",
       "      <td>20</td>\n",
       "      <td>16.884145</td>\n",
       "    </tr>\n",
       "    <tr>\n",
       "      <th>1</th>\n",
       "      <td>27</td>\n",
       "      <td>33.732261</td>\n",
       "    </tr>\n",
       "    <tr>\n",
       "      <th>2</th>\n",
       "      <td>69</td>\n",
       "      <td>75.357018</td>\n",
       "    </tr>\n",
       "    <tr>\n",
       "      <th>3</th>\n",
       "      <td>30</td>\n",
       "      <td>26.794801</td>\n",
       "    </tr>\n",
       "    <tr>\n",
       "      <th>4</th>\n",
       "      <td>62</td>\n",
       "      <td>60.491033</td>\n",
       "    </tr>\n",
       "  </tbody>\n",
       "</table>\n",
       "</div>"
      ],
      "text/plain": [
       "   Actual  Predicted\n",
       "0      20  16.884145\n",
       "1      27  33.732261\n",
       "2      69  75.357018\n",
       "3      30  26.794801\n",
       "4      62  60.491033"
      ]
     },
     "execution_count": 11,
     "metadata": {},
     "output_type": "execute_result"
    }
   ],
   "source": [
    "# Comparing Actual vs Predicted values\n",
    "pd.DataFrame({'Actual': Y_test, 'Predicted': Y_pred})"
   ]
  },
  {
   "cell_type": "code",
   "execution_count": 12,
   "id": "60e47391",
   "metadata": {},
   "outputs": [
    {
     "name": "stdout",
     "output_type": "stream",
     "text": [
      "No of Hours = 9.25\n",
      "Predicted Score = 93.69173248737535\n"
     ]
    }
   ],
   "source": [
    "# Predicting the score for a student who studies for 9.25 hours a day\n",
    "hours = 9.25\n",
    "prediction = lr.predict([[hours]])\n",
    "print(\"No of Hours = {}\".format(hours))\n",
    "print(\"Predicted Score = {}\".format(prediction[0][0]))"
   ]
  },
  {
   "cell_type": "markdown",
   "id": "6e234ddb",
   "metadata": {},
   "source": [
    "#### Step 7 : <span style=\"font-weight:normal;\">Evaluating the model</span>\n",
    "The final step is to evaluate the performance of algorithm. This step is particularly important to compare how well different algorithms perform on a particular dataset. For simplicity here, we have chosen the mean square error. There are many such metrics."
   ]
  },
  {
   "cell_type": "code",
   "execution_count": 13,
   "id": "54439963",
   "metadata": {},
   "outputs": [
    {
     "name": "stdout",
     "output_type": "stream",
     "text": [
      "Mean Absolute Error : 4.183859899002975\n"
     ]
    }
   ],
   "source": [
    "from sklearn import metrics  \n",
    "print('Mean Absolute Error :', metrics.mean_absolute_error(Y_test, Y_pred)) "
   ]
  }
 ],
 "metadata": {
  "kernelspec": {
   "display_name": "Python 3",
   "language": "python",
   "name": "python3"
  },
  "language_info": {
   "codemirror_mode": {
    "name": "ipython",
    "version": 3
   },
   "file_extension": ".py",
   "mimetype": "text/x-python",
   "name": "python",
   "nbconvert_exporter": "python",
   "pygments_lexer": "ipython3",
   "version": "3.9.5"
  }
 },
 "nbformat": 4,
 "nbformat_minor": 5
}
